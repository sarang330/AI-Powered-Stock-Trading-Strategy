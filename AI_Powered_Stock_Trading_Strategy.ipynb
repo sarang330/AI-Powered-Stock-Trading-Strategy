

!pip install yfinance
!pip install newsapi-python
!pip install vaderSentiment
!pip install scikit-learn



import yfinance as yf
import pandas as pd
import time

# List of the top 21 Nifty 50 tickers with `.NS` suffix
nifty_50_tickers = [
    'RELIANCE.NS', 'TCS.NS', 'INFY.NS', 'HDFCBANK.NS', 'ICICIBANK.NS', 'HINDUNILVR.NS',
     'BAJFINANCE.NS', 'SBIN.NS', 'LT.NS', 'KOTAKBANK.NS', 'AXISBANK.NS',
    'ITC.NS', 'MARUTI.NS', 'BHARTIARTL.NS', 'TATAMOTORS.NS', 'TITAN.NS', 'M&M.NS',
    'ASIANPAINT.NS', 'SUNPHARMA.NS', 'ULTRACEMCO.NS'
]

# Function to fetch stock data from Yahoo Finance
def fetch_stock_data(tickers):
    stock_data = {}
    for ticker in tickers:
        try:
            # Fetch daily stock data for each ticker from Yahoo Finance
            data = yf.download(ticker, period="1y", interval="1d")  # Last 1 year of daily data
            stock_data[ticker] = data
            print(f"Successfully fetched data for {ticker}")
        except Exception as e:
            print(f"Error fetching data for {ticker}: {e}")
        time.sleep(1)  # To avoid hitting rate limits
    return stock_data

# Fetch stock data for top 21 Nifty 50 stocks
nifty_50_data = fetch_stock_data(nifty_50_tickers)

# Example: Display the first few rows of data for Reliance Industries
reliance_data = nifty_50_data['RELIANCE.NS']
print(reliance_data.head())

# Optional: Save the data to a CSV file for Reliance
reliance_data.to_csv("Reliance_Stock_Data.csv")




from newsapi import NewsApiClient
from vaderSentiment.vaderSentiment import SentimentIntensityAnalyzer

# Initialize News API and Sentiment Analyzer
newsapi = NewsApiClient(api_key='3ea7722263ae46f49439e47e065d987a')  # Replace with your NewsAPI key
analyzer = SentimentIntensityAnalyzer()

# Function to get sentiment for a stock's latest news
def get_sentiment(stock_name):
    sentiment = 0
    news = newsapi.get_everything(q=stock_name, language='en', sort_by='publishedAt', page_size=5)
    for article in news['articles']:
        sentiment += analyzer.polarity_scores(article['title'])['compound']
    return sentiment

# Example for Reliance
reliance_sentiment = get_sentiment('Reliance')
print("Reliance Sentiment Score:", reliance_sentiment)


# Function to calculate SMA
def compute_sma(data, period):
    return data['Close'].rolling(window=period).mean()

# Function to calculate RSI
def compute_rsi(data, window=14):
    delta = data['Close'].diff()
    gain = (delta.where(delta > 0, 0)).rolling(window=window).mean()
    loss = (-delta.where(delta < 0, 0)).rolling(window=window).mean()
    rs = gain / loss
    return 100 - (100 / (1 + rs))

# Function to calculate MACD
def compute_macd(data):
    short_ema = data['Close'].ewm(span=12, adjust=False).mean()
    long_ema = data['Close'].ewm(span=26, adjust=False).mean()
    return short_ema - long_ema

# Feature engineering for all stocks
def feature_engineering(stock_data):
    for ticker, data in stock_data.items():
        data['SMA50'] = compute_sma(data, 50)
        data['SMA200'] = compute_sma(data, 200)
        data['RSI'] = compute_rsi(data)
        data['MACD'] = compute_macd(data)
        data['Sentiment'] = get_sentiment(ticker)  # Sentiment from news
    return stock_data

nifty_50_features = feature_engineering(nifty_50_data)


from sklearn.model_selection import train_test_split
from sklearn.ensemble import RandomForestClassifier
from sklearn.metrics import accuracy_score

# Function to create the target variable (binary: 1 if stock increases by 10-15% in 1-2 weeks, else 0)
def create_target_variable(data):
    data['Target'] = (data['Close'].shift(-5) >= data['Close'] * 1.10) & (data['Close'].shift(-5) <= data['Close'] * 1.15)
    data['Target'] = data['Target'].astype(int)
    return data

# Prepare data for training
def prepare_data_for_training(stock_data):
    X = []
    y = []
    for ticker, data in stock_data.items():
        data = create_target_variable(data)
        features = data[['SMA50', 'SMA200', 'RSI', 'MACD', 'Sentiment']].iloc[:-5]  # Exclude last 5 rows for prediction
        target = data['Target'].iloc[:-5]
        X.append(features)
        y.append(target)
    return pd.concat(X), pd.concat(y)

X, y = prepare_data_for_training(nifty_50_features)

# Split data into train and test
X_train, X_test, y_train, y_test = train_test_split(X, y, test_size=0.2, random_state=42)

# Initialize and train Random Forest Classifier
model = RandomForestClassifier(n_estimators=100, random_state=42)
model.fit(X_train, y_train)

# Evaluate the model
y_pred = model.predict(X_test)
accuracy = accuracy_score(y_test, y_pred)
print(f"Accuracy: {accuracy * 100:.2f}%")


def predict_stock_movement(stock_data, model):
    signals = {}
    for ticker, data in stock_data.items():
        # Take the last available row's features for prediction
        latest_data = data[['SMA50', 'SMA200', 'RSI', 'MACD', 'Sentiment']].iloc[-1:]
        prediction = model.predict(latest_data)
        signals[ticker] = 'BUY' if prediction == 1 else 'HOLD'
    return signals

# Predict stock movements for all Nifty 50 stocks
signals = predict_stock_movement(nifty_50_features, model)

# Display signals
for ticker, signal in signals.items():
    print(f"{ticker}: {signal}")
