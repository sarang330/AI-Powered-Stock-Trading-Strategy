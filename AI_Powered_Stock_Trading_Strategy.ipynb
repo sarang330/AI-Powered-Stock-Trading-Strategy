{
  "nbformat": 4,
  "nbformat_minor": 0,
  "metadata": {
    "colab": {
      "provenance": [],
      "authorship_tag": "ABX9TyOycQQSag2s6oIlE35eDLZ4",
      "include_colab_link": true
    },
    "kernelspec": {
      "name": "python3",
      "display_name": "Python 3"
    },
    "language_info": {
      "name": "python"
    }
  },
  "cells": [
    {
      "cell_type": "markdown",
      "metadata": {
        "id": "view-in-github",
        "colab_type": "text"
      },
      "source": [
        "<a href=\"https://colab.research.google.com/github/sarang330/AI-Powered-Stock-Trading-Strategy/blob/main/AI_Powered_Stock_Trading_Strategy.ipynb\" target=\"_parent\"><img src=\"https://colab.research.google.com/assets/colab-badge.svg\" alt=\"Open In Colab\"/></a>"
      ]
    },
    {
      "cell_type": "code",
      "execution_count": 17,
      "metadata": {
        "id": "kWLG2xyESLrs"
      },
      "outputs": [],
      "source": []
    },
    {
      "cell_type": "code",
      "source": [
        "!pip install yfinance\n",
        "!pip install newsapi-python\n",
        "!pip install vaderSentiment\n",
        "!pip install scikit-learn\n",
        "\n"
      ],
      "metadata": {
        "colab": {
          "base_uri": "https://localhost:8080/"
        },
        "id": "_mOnCBVxd_yZ",
        "outputId": "ae369d06-7e93-4c47-aec1-42d3a4bd1556"
      },
      "execution_count": 18,
      "outputs": [
        {
          "output_type": "stream",
          "name": "stdout",
          "text": [
            "Requirement already satisfied: yfinance in /usr/local/lib/python3.11/dist-packages (0.2.65)\n",
            "Requirement already satisfied: pandas>=1.3.0 in /usr/local/lib/python3.11/dist-packages (from yfinance) (2.2.2)\n",
            "Requirement already satisfied: numpy>=1.16.5 in /usr/local/lib/python3.11/dist-packages (from yfinance) (2.0.2)\n",
            "Requirement already satisfied: requests>=2.31 in /usr/local/lib/python3.11/dist-packages (from yfinance) (2.32.3)\n",
            "Requirement already satisfied: multitasking>=0.0.7 in /usr/local/lib/python3.11/dist-packages (from yfinance) (0.0.12)\n",
            "Requirement already satisfied: platformdirs>=2.0.0 in /usr/local/lib/python3.11/dist-packages (from yfinance) (4.3.8)\n",
            "Requirement already satisfied: pytz>=2022.5 in /usr/local/lib/python3.11/dist-packages (from yfinance) (2025.2)\n",
            "Requirement already satisfied: frozendict>=2.3.4 in /usr/local/lib/python3.11/dist-packages (from yfinance) (2.4.6)\n",
            "Requirement already satisfied: peewee>=3.16.2 in /usr/local/lib/python3.11/dist-packages (from yfinance) (3.18.2)\n",
            "Requirement already satisfied: beautifulsoup4>=4.11.1 in /usr/local/lib/python3.11/dist-packages (from yfinance) (4.13.4)\n",
            "Requirement already satisfied: curl_cffi>=0.7 in /usr/local/lib/python3.11/dist-packages (from yfinance) (0.12.0)\n",
            "Requirement already satisfied: protobuf>=3.19.0 in /usr/local/lib/python3.11/dist-packages (from yfinance) (5.29.5)\n",
            "Requirement already satisfied: websockets>=13.0 in /usr/local/lib/python3.11/dist-packages (from yfinance) (15.0.1)\n",
            "Requirement already satisfied: soupsieve>1.2 in /usr/local/lib/python3.11/dist-packages (from beautifulsoup4>=4.11.1->yfinance) (2.7)\n",
            "Requirement already satisfied: typing-extensions>=4.0.0 in /usr/local/lib/python3.11/dist-packages (from beautifulsoup4>=4.11.1->yfinance) (4.14.1)\n",
            "Requirement already satisfied: cffi>=1.12.0 in /usr/local/lib/python3.11/dist-packages (from curl_cffi>=0.7->yfinance) (1.17.1)\n",
            "Requirement already satisfied: certifi>=2024.2.2 in /usr/local/lib/python3.11/dist-packages (from curl_cffi>=0.7->yfinance) (2025.8.3)\n",
            "Requirement already satisfied: python-dateutil>=2.8.2 in /usr/local/lib/python3.11/dist-packages (from pandas>=1.3.0->yfinance) (2.9.0.post0)\n",
            "Requirement already satisfied: tzdata>=2022.7 in /usr/local/lib/python3.11/dist-packages (from pandas>=1.3.0->yfinance) (2025.2)\n",
            "Requirement already satisfied: charset-normalizer<4,>=2 in /usr/local/lib/python3.11/dist-packages (from requests>=2.31->yfinance) (3.4.2)\n",
            "Requirement already satisfied: idna<4,>=2.5 in /usr/local/lib/python3.11/dist-packages (from requests>=2.31->yfinance) (3.10)\n",
            "Requirement already satisfied: urllib3<3,>=1.21.1 in /usr/local/lib/python3.11/dist-packages (from requests>=2.31->yfinance) (2.5.0)\n",
            "Requirement already satisfied: pycparser in /usr/local/lib/python3.11/dist-packages (from cffi>=1.12.0->curl_cffi>=0.7->yfinance) (2.22)\n",
            "Requirement already satisfied: six>=1.5 in /usr/local/lib/python3.11/dist-packages (from python-dateutil>=2.8.2->pandas>=1.3.0->yfinance) (1.17.0)\n",
            "Requirement already satisfied: newsapi-python in /usr/local/lib/python3.11/dist-packages (0.2.7)\n",
            "Requirement already satisfied: requests<3.0.0 in /usr/local/lib/python3.11/dist-packages (from newsapi-python) (2.32.3)\n",
            "Requirement already satisfied: charset-normalizer<4,>=2 in /usr/local/lib/python3.11/dist-packages (from requests<3.0.0->newsapi-python) (3.4.2)\n",
            "Requirement already satisfied: idna<4,>=2.5 in /usr/local/lib/python3.11/dist-packages (from requests<3.0.0->newsapi-python) (3.10)\n",
            "Requirement already satisfied: urllib3<3,>=1.21.1 in /usr/local/lib/python3.11/dist-packages (from requests<3.0.0->newsapi-python) (2.5.0)\n",
            "Requirement already satisfied: certifi>=2017.4.17 in /usr/local/lib/python3.11/dist-packages (from requests<3.0.0->newsapi-python) (2025.8.3)\n",
            "Requirement already satisfied: vaderSentiment in /usr/local/lib/python3.11/dist-packages (3.3.2)\n",
            "Requirement already satisfied: requests in /usr/local/lib/python3.11/dist-packages (from vaderSentiment) (2.32.3)\n",
            "Requirement already satisfied: charset-normalizer<4,>=2 in /usr/local/lib/python3.11/dist-packages (from requests->vaderSentiment) (3.4.2)\n",
            "Requirement already satisfied: idna<4,>=2.5 in /usr/local/lib/python3.11/dist-packages (from requests->vaderSentiment) (3.10)\n",
            "Requirement already satisfied: urllib3<3,>=1.21.1 in /usr/local/lib/python3.11/dist-packages (from requests->vaderSentiment) (2.5.0)\n",
            "Requirement already satisfied: certifi>=2017.4.17 in /usr/local/lib/python3.11/dist-packages (from requests->vaderSentiment) (2025.8.3)\n",
            "Requirement already satisfied: scikit-learn in /usr/local/lib/python3.11/dist-packages (1.6.1)\n",
            "Requirement already satisfied: numpy>=1.19.5 in /usr/local/lib/python3.11/dist-packages (from scikit-learn) (2.0.2)\n",
            "Requirement already satisfied: scipy>=1.6.0 in /usr/local/lib/python3.11/dist-packages (from scikit-learn) (1.16.1)\n",
            "Requirement already satisfied: joblib>=1.2.0 in /usr/local/lib/python3.11/dist-packages (from scikit-learn) (1.5.1)\n",
            "Requirement already satisfied: threadpoolctl>=3.1.0 in /usr/local/lib/python3.11/dist-packages (from scikit-learn) (3.6.0)\n"
          ]
        }
      ]
    },
    {
      "cell_type": "code",
      "source": [
        "import yfinance as yf\n",
        "import pandas as pd\n",
        "import time\n",
        "\n",
        "# List of the top 21 Nifty 50 tickers with `.NS` suffix\n",
        "nifty_50_tickers = [\n",
        "    'RELIANCE.NS', 'TCS.NS', 'INFY.NS', 'HDFCBANK.NS', 'ICICIBANK.NS', 'HINDUNILVR.NS',\n",
        "     'BAJFINANCE.NS', 'SBIN.NS', 'LT.NS', 'KOTAKBANK.NS', 'AXISBANK.NS',\n",
        "    'ITC.NS', 'MARUTI.NS', 'BHARTIARTL.NS', 'TATAMOTORS.NS', 'TITAN.NS', 'M&M.NS',\n",
        "    'ASIANPAINT.NS', 'SUNPHARMA.NS', 'ULTRACEMCO.NS'\n",
        "]\n",
        "\n",
        "# Function to fetch stock data from Yahoo Finance\n",
        "def fetch_stock_data(tickers):\n",
        "    stock_data = {}\n",
        "    for ticker in tickers:\n",
        "        try:\n",
        "            # Fetch daily stock data for each ticker from Yahoo Finance\n",
        "            data = yf.download(ticker, period=\"1y\", interval=\"1d\")  # Last 1 year of daily data\n",
        "            stock_data[ticker] = data\n",
        "            print(f\"Successfully fetched data for {ticker}\")\n",
        "        except Exception as e:\n",
        "            print(f\"Error fetching data for {ticker}: {e}\")\n",
        "        time.sleep(1)  # To avoid hitting rate limits\n",
        "    return stock_data\n",
        "\n",
        "# Fetch stock data for top 21 Nifty 50 stocks\n",
        "nifty_50_data = fetch_stock_data(nifty_50_tickers)\n",
        "\n",
        "# Example: Display the first few rows of data for Reliance Industries\n",
        "reliance_data = nifty_50_data['RELIANCE.NS']\n",
        "print(reliance_data.head())\n",
        "\n",
        "# Optional: Save the data to a CSV file for Reliance\n",
        "reliance_data.to_csv(\"Reliance_Stock_Data.csv\")\n",
        "\n",
        "\n"
      ],
      "metadata": {
        "colab": {
          "base_uri": "https://localhost:8080/"
        },
        "id": "RqGVFwv8fizq",
        "outputId": "af6e4133-6e84-47f2-bc8f-94d6607c90ed"
      },
      "execution_count": 19,
      "outputs": [
        {
          "output_type": "stream",
          "name": "stderr",
          "text": [
            "/tmp/ipython-input-3358784562.py:19: FutureWarning: YF.download() has changed argument auto_adjust default to True\n",
            "  data = yf.download(ticker, period=\"1y\", interval=\"1d\")  # Last 1 year of daily data\n",
            "\r[*********************100%***********************]  1 of 1 completed\n"
          ]
        },
        {
          "output_type": "stream",
          "name": "stdout",
          "text": [
            "Successfully fetched data for RELIANCE.NS\n"
          ]
        },
        {
          "output_type": "stream",
          "name": "stderr",
          "text": [
            "/tmp/ipython-input-3358784562.py:19: FutureWarning: YF.download() has changed argument auto_adjust default to True\n",
            "  data = yf.download(ticker, period=\"1y\", interval=\"1d\")  # Last 1 year of daily data\n",
            "\r[*********************100%***********************]  1 of 1 completed\n"
          ]
        },
        {
          "output_type": "stream",
          "name": "stdout",
          "text": [
            "Successfully fetched data for TCS.NS\n"
          ]
        },
        {
          "output_type": "stream",
          "name": "stderr",
          "text": [
            "/tmp/ipython-input-3358784562.py:19: FutureWarning: YF.download() has changed argument auto_adjust default to True\n",
            "  data = yf.download(ticker, period=\"1y\", interval=\"1d\")  # Last 1 year of daily data\n",
            "[*********************100%***********************]  1 of 1 completed\n"
          ]
        },
        {
          "output_type": "stream",
          "name": "stdout",
          "text": [
            "Successfully fetched data for INFY.NS\n"
          ]
        },
        {
          "output_type": "stream",
          "name": "stderr",
          "text": [
            "/tmp/ipython-input-3358784562.py:19: FutureWarning: YF.download() has changed argument auto_adjust default to True\n",
            "  data = yf.download(ticker, period=\"1y\", interval=\"1d\")  # Last 1 year of daily data\n",
            "[*********************100%***********************]  1 of 1 completed\n"
          ]
        },
        {
          "output_type": "stream",
          "name": "stdout",
          "text": [
            "Successfully fetched data for HDFCBANK.NS\n"
          ]
        },
        {
          "output_type": "stream",
          "name": "stderr",
          "text": [
            "/tmp/ipython-input-3358784562.py:19: FutureWarning: YF.download() has changed argument auto_adjust default to True\n",
            "  data = yf.download(ticker, period=\"1y\", interval=\"1d\")  # Last 1 year of daily data\n",
            "[*********************100%***********************]  1 of 1 completed\n"
          ]
        },
        {
          "output_type": "stream",
          "name": "stdout",
          "text": [
            "Successfully fetched data for ICICIBANK.NS\n"
          ]
        },
        {
          "output_type": "stream",
          "name": "stderr",
          "text": [
            "/tmp/ipython-input-3358784562.py:19: FutureWarning: YF.download() has changed argument auto_adjust default to True\n",
            "  data = yf.download(ticker, period=\"1y\", interval=\"1d\")  # Last 1 year of daily data\n",
            "[*********************100%***********************]  1 of 1 completed\n"
          ]
        },
        {
          "output_type": "stream",
          "name": "stdout",
          "text": [
            "Successfully fetched data for HINDUNILVR.NS\n"
          ]
        },
        {
          "output_type": "stream",
          "name": "stderr",
          "text": [
            "/tmp/ipython-input-3358784562.py:19: FutureWarning: YF.download() has changed argument auto_adjust default to True\n",
            "  data = yf.download(ticker, period=\"1y\", interval=\"1d\")  # Last 1 year of daily data\n",
            "[*********************100%***********************]  1 of 1 completed\n"
          ]
        },
        {
          "output_type": "stream",
          "name": "stdout",
          "text": [
            "Successfully fetched data for BAJFINANCE.NS\n"
          ]
        },
        {
          "output_type": "stream",
          "name": "stderr",
          "text": [
            "/tmp/ipython-input-3358784562.py:19: FutureWarning: YF.download() has changed argument auto_adjust default to True\n",
            "  data = yf.download(ticker, period=\"1y\", interval=\"1d\")  # Last 1 year of daily data\n",
            "\r[*********************100%***********************]  1 of 1 completed\n"
          ]
        },
        {
          "output_type": "stream",
          "name": "stdout",
          "text": [
            "Successfully fetched data for SBIN.NS\n"
          ]
        },
        {
          "output_type": "stream",
          "name": "stderr",
          "text": [
            "/tmp/ipython-input-3358784562.py:19: FutureWarning: YF.download() has changed argument auto_adjust default to True\n",
            "  data = yf.download(ticker, period=\"1y\", interval=\"1d\")  # Last 1 year of daily data\n",
            "\r[*********************100%***********************]  1 of 1 completed\n"
          ]
        },
        {
          "output_type": "stream",
          "name": "stdout",
          "text": [
            "Successfully fetched data for LT.NS\n"
          ]
        },
        {
          "output_type": "stream",
          "name": "stderr",
          "text": [
            "/tmp/ipython-input-3358784562.py:19: FutureWarning: YF.download() has changed argument auto_adjust default to True\n",
            "  data = yf.download(ticker, period=\"1y\", interval=\"1d\")  # Last 1 year of daily data\n",
            "\r[*********************100%***********************]  1 of 1 completed\n"
          ]
        },
        {
          "output_type": "stream",
          "name": "stdout",
          "text": [
            "Successfully fetched data for KOTAKBANK.NS\n"
          ]
        },
        {
          "output_type": "stream",
          "name": "stderr",
          "text": [
            "/tmp/ipython-input-3358784562.py:19: FutureWarning: YF.download() has changed argument auto_adjust default to True\n",
            "  data = yf.download(ticker, period=\"1y\", interval=\"1d\")  # Last 1 year of daily data\n",
            "\r[*********************100%***********************]  1 of 1 completed\n"
          ]
        },
        {
          "output_type": "stream",
          "name": "stdout",
          "text": [
            "Successfully fetched data for AXISBANK.NS\n"
          ]
        },
        {
          "output_type": "stream",
          "name": "stderr",
          "text": [
            "/tmp/ipython-input-3358784562.py:19: FutureWarning: YF.download() has changed argument auto_adjust default to True\n",
            "  data = yf.download(ticker, period=\"1y\", interval=\"1d\")  # Last 1 year of daily data\n",
            "\r[*********************100%***********************]  1 of 1 completed\n"
          ]
        },
        {
          "output_type": "stream",
          "name": "stdout",
          "text": [
            "Successfully fetched data for ITC.NS\n"
          ]
        },
        {
          "output_type": "stream",
          "name": "stderr",
          "text": [
            "/tmp/ipython-input-3358784562.py:19: FutureWarning: YF.download() has changed argument auto_adjust default to True\n",
            "  data = yf.download(ticker, period=\"1y\", interval=\"1d\")  # Last 1 year of daily data\n",
            "\r[*********************100%***********************]  1 of 1 completed\n"
          ]
        },
        {
          "output_type": "stream",
          "name": "stdout",
          "text": [
            "Successfully fetched data for MARUTI.NS\n"
          ]
        },
        {
          "output_type": "stream",
          "name": "stderr",
          "text": [
            "/tmp/ipython-input-3358784562.py:19: FutureWarning: YF.download() has changed argument auto_adjust default to True\n",
            "  data = yf.download(ticker, period=\"1y\", interval=\"1d\")  # Last 1 year of daily data\n",
            "\r[*********************100%***********************]  1 of 1 completed\n"
          ]
        },
        {
          "output_type": "stream",
          "name": "stdout",
          "text": [
            "Successfully fetched data for BHARTIARTL.NS\n"
          ]
        },
        {
          "output_type": "stream",
          "name": "stderr",
          "text": [
            "/tmp/ipython-input-3358784562.py:19: FutureWarning: YF.download() has changed argument auto_adjust default to True\n",
            "  data = yf.download(ticker, period=\"1y\", interval=\"1d\")  # Last 1 year of daily data\n",
            "\r[*********************100%***********************]  1 of 1 completed\n"
          ]
        },
        {
          "output_type": "stream",
          "name": "stdout",
          "text": [
            "Successfully fetched data for TATAMOTORS.NS\n"
          ]
        },
        {
          "output_type": "stream",
          "name": "stderr",
          "text": [
            "/tmp/ipython-input-3358784562.py:19: FutureWarning: YF.download() has changed argument auto_adjust default to True\n",
            "  data = yf.download(ticker, period=\"1y\", interval=\"1d\")  # Last 1 year of daily data\n",
            "\r[*********************100%***********************]  1 of 1 completed\n"
          ]
        },
        {
          "output_type": "stream",
          "name": "stdout",
          "text": [
            "Successfully fetched data for TITAN.NS\n"
          ]
        },
        {
          "output_type": "stream",
          "name": "stderr",
          "text": [
            "/tmp/ipython-input-3358784562.py:19: FutureWarning: YF.download() has changed argument auto_adjust default to True\n",
            "  data = yf.download(ticker, period=\"1y\", interval=\"1d\")  # Last 1 year of daily data\n",
            "\r[*********************100%***********************]  1 of 1 completed\n"
          ]
        },
        {
          "output_type": "stream",
          "name": "stdout",
          "text": [
            "Successfully fetched data for M&M.NS\n"
          ]
        },
        {
          "output_type": "stream",
          "name": "stderr",
          "text": [
            "/tmp/ipython-input-3358784562.py:19: FutureWarning: YF.download() has changed argument auto_adjust default to True\n",
            "  data = yf.download(ticker, period=\"1y\", interval=\"1d\")  # Last 1 year of daily data\n",
            "\r[*********************100%***********************]  1 of 1 completed\n"
          ]
        },
        {
          "output_type": "stream",
          "name": "stdout",
          "text": [
            "Successfully fetched data for ASIANPAINT.NS\n"
          ]
        },
        {
          "output_type": "stream",
          "name": "stderr",
          "text": [
            "/tmp/ipython-input-3358784562.py:19: FutureWarning: YF.download() has changed argument auto_adjust default to True\n",
            "  data = yf.download(ticker, period=\"1y\", interval=\"1d\")  # Last 1 year of daily data\n",
            "\r[*********************100%***********************]  1 of 1 completed\n"
          ]
        },
        {
          "output_type": "stream",
          "name": "stdout",
          "text": [
            "Successfully fetched data for SUNPHARMA.NS\n"
          ]
        },
        {
          "output_type": "stream",
          "name": "stderr",
          "text": [
            "/tmp/ipython-input-3358784562.py:19: FutureWarning: YF.download() has changed argument auto_adjust default to True\n",
            "  data = yf.download(ticker, period=\"1y\", interval=\"1d\")  # Last 1 year of daily data\n",
            "\r[*********************100%***********************]  1 of 1 completed\n"
          ]
        },
        {
          "output_type": "stream",
          "name": "stdout",
          "text": [
            "Successfully fetched data for ULTRACEMCO.NS\n",
            "Price             Close         High          Low         Open      Volume\n",
            "Ticker      RELIANCE.NS  RELIANCE.NS  RELIANCE.NS  RELIANCE.NS RELIANCE.NS\n",
            "Date                                                                      \n",
            "2024-08-08  1444.223389  1460.044692  1441.034261  1452.595000    12387192\n",
            "2024-08-09  1469.313232  1471.505742  1451.075083  1455.061553     6249776\n",
            "2024-08-12  1455.684448  1468.017590  1452.819173  1465.027737     8184584\n",
            "2024-08-13  1458.674316  1465.102451  1453.068343  1455.809041     6265064\n",
            "2024-08-14  1456.905273  1467.020965  1448.782816  1458.599596     6267466\n"
          ]
        }
      ]
    },
    {
      "cell_type": "code",
      "source": [
        "from newsapi import NewsApiClient\n",
        "from vaderSentiment.vaderSentiment import SentimentIntensityAnalyzer\n",
        "\n",
        "# Initialize News API and Sentiment Analyzer\n",
        "newsapi = NewsApiClient(api_key='004e31d1a89a4bf6a604ea7cc6e2907b')  # Replace with your NewsAPI key\n",
        "analyzer = SentimentIntensityAnalyzer()\n",
        "\n",
        "# Function to get sentiment for a stock's latest news\n",
        "def get_sentiment(stock_name):\n",
        "    sentiment = 0\n",
        "    news = newsapi.get_everything(q=stock_name, language='en', sort_by='publishedAt', page_size=5)\n",
        "    for article in news['articles']:\n",
        "        sentiment += analyzer.polarity_scores(article['title'])['compound']\n",
        "    return sentiment\n",
        "\n",
        "# Example for Reliance\n",
        "reliance_sentiment = get_sentiment('Reliance')\n",
        "print(\"Reliance Sentiment Score:\", reliance_sentiment)\n"
      ],
      "metadata": {
        "colab": {
          "base_uri": "https://localhost:8080/"
        },
        "id": "moSncY4jh60m",
        "outputId": "ad3487ad-e7d6-4aae-ccca-3afa4b3ea2cc"
      },
      "execution_count": 20,
      "outputs": [
        {
          "output_type": "stream",
          "name": "stdout",
          "text": [
            "Reliance Sentiment Score: 0.1779\n"
          ]
        }
      ]
    },
    {
      "cell_type": "code",
      "source": [
        "# Function to calculate SMA\n",
        "def compute_sma(data, period):\n",
        "    return data['Close'].rolling(window=period).mean()\n",
        "\n",
        "# Function to calculate RSI\n",
        "def compute_rsi(data, window=14):\n",
        "    delta = data['Close'].diff()\n",
        "    gain = (delta.where(delta > 0, 0)).rolling(window=window).mean()\n",
        "    loss = (-delta.where(delta < 0, 0)).rolling(window=window).mean()\n",
        "    rs = gain / loss\n",
        "    return 100 - (100 / (1 + rs))\n",
        "\n",
        "# Function to calculate MACD\n",
        "def compute_macd(data):\n",
        "    short_ema = data['Close'].ewm(span=12, adjust=False).mean()\n",
        "    long_ema = data['Close'].ewm(span=26, adjust=False).mean()\n",
        "    return short_ema - long_ema\n",
        "\n",
        "# Feature engineering for all stocks\n",
        "def feature_engineering(stock_data):\n",
        "    for ticker, data in stock_data.items():\n",
        "        data['SMA50'] = compute_sma(data, 50)\n",
        "        data['SMA200'] = compute_sma(data, 200)\n",
        "        data['RSI'] = compute_rsi(data)\n",
        "        data['MACD'] = compute_macd(data)\n",
        "        data['Sentiment'] = get_sentiment(ticker)  # Sentiment from news\n",
        "    return stock_data\n",
        "\n",
        "nifty_50_features = feature_engineering(nifty_50_data)\n"
      ],
      "metadata": {
        "id": "kyCCA9zOiuaQ"
      },
      "execution_count": 21,
      "outputs": []
    },
    {
      "cell_type": "code",
      "source": [
        "from sklearn.model_selection import train_test_split\n",
        "from sklearn.ensemble import RandomForestClassifier\n",
        "from sklearn.metrics import accuracy_score\n",
        "\n",
        "# Function to create the target variable (binary: 1 if stock increases by 10-15% in 1-2 weeks, else 0)\n",
        "def create_target_variable(data):\n",
        "    data['Target'] = (data['Close'].shift(-5) >= data['Close'] * 1.10) & (data['Close'].shift(-5) <= data['Close'] * 1.15)\n",
        "    data['Target'] = data['Target'].astype(int)\n",
        "    return data\n",
        "\n",
        "# Prepare data for training\n",
        "def prepare_data_for_training(stock_data):\n",
        "    X = []\n",
        "    y = []\n",
        "    for ticker, data in stock_data.items():\n",
        "        data = create_target_variable(data)\n",
        "        features = data[['SMA50', 'SMA200', 'RSI', 'MACD', 'Sentiment']].iloc[:-5]  # Exclude last 5 rows for prediction\n",
        "        target = data['Target'].iloc[:-5]\n",
        "        X.append(features)\n",
        "        y.append(target)\n",
        "    return pd.concat(X), pd.concat(y)\n",
        "\n",
        "X, y = prepare_data_for_training(nifty_50_features)\n",
        "\n",
        "# Split data into train and test\n",
        "X_train, X_test, y_train, y_test = train_test_split(X, y, test_size=0.2, random_state=42)\n",
        "\n",
        "# Initialize and train Random Forest Classifier\n",
        "model = RandomForestClassifier(n_estimators=100, random_state=42)\n",
        "model.fit(X_train, y_train)\n",
        "\n",
        "# Evaluate the model\n",
        "y_pred = model.predict(X_test)\n",
        "accuracy = accuracy_score(y_test, y_pred)\n",
        "print(f\"Accuracy: {accuracy * 100:.2f}%\")\n"
      ],
      "metadata": {
        "colab": {
          "base_uri": "https://localhost:8080/"
        },
        "id": "_Tt-KF-ujd2M",
        "outputId": "6e20d4b0-e7d4-425b-b6be-2c0ef702ddb3"
      },
      "execution_count": 22,
      "outputs": [
        {
          "output_type": "stream",
          "name": "stdout",
          "text": [
            "Accuracy: 99.70%\n"
          ]
        }
      ]
    },
    {
      "cell_type": "code",
      "source": [
        "def predict_stock_movement(stock_data, model):\n",
        "    signals = {}\n",
        "    for ticker, data in stock_data.items():\n",
        "        # Take the last available row's features for prediction\n",
        "        latest_data = data[['SMA50', 'SMA200', 'RSI', 'MACD', 'Sentiment']].iloc[-1:]\n",
        "        prediction = model.predict(latest_data)\n",
        "        signals[ticker] = 'BUY' if prediction == 1 else 'HOLD'\n",
        "    return signals\n",
        "\n",
        "# Predict stock movements for all Nifty 50 stocks\n",
        "signals = predict_stock_movement(nifty_50_features, model)\n",
        "\n",
        "# Display signals\n",
        "for ticker, signal in signals.items():\n",
        "    print(f\"{ticker}: {signal}\")\n"
      ],
      "metadata": {
        "colab": {
          "base_uri": "https://localhost:8080/"
        },
        "id": "sLZsz38GjnXb",
        "outputId": "42ce9c68-b646-4a9a-b015-97f0ce6b777b"
      },
      "execution_count": 23,
      "outputs": [
        {
          "output_type": "stream",
          "name": "stdout",
          "text": [
            "RELIANCE.NS: HOLD\n",
            "TCS.NS: HOLD\n",
            "INFY.NS: HOLD\n",
            "HDFCBANK.NS: HOLD\n",
            "ICICIBANK.NS: HOLD\n",
            "HINDUNILVR.NS: HOLD\n",
            "BAJFINANCE.NS: HOLD\n",
            "SBIN.NS: HOLD\n",
            "LT.NS: HOLD\n",
            "KOTAKBANK.NS: HOLD\n",
            "AXISBANK.NS: HOLD\n",
            "ITC.NS: HOLD\n",
            "MARUTI.NS: HOLD\n",
            "BHARTIARTL.NS: HOLD\n",
            "TATAMOTORS.NS: HOLD\n",
            "TITAN.NS: HOLD\n",
            "M&M.NS: HOLD\n",
            "ASIANPAINT.NS: HOLD\n",
            "SUNPHARMA.NS: HOLD\n",
            "ULTRACEMCO.NS: HOLD\n"
          ]
        }
      ]
    }
  ]
}